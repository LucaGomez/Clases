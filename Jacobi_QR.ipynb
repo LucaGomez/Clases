{
  "cells": [
    {
      "cell_type": "markdown",
      "metadata": {
        "id": "CRJDvZA9e7nC"
      },
      "source": [
        "## Número de Condición\n",
        "\n",
        "Consideramos 2 matrices, $A_1$ y $A_2$, con números de condición $\\kappa(A_1)\\approx 1$, y $\\kappa(A_2)\\gg 1$.\n",
        "\n",
        "Vamos a ver que al añadir una ligera perturbación al vector $b$ (que podría ser propia de una incerteza de los datos), la solución cambia drásticamente en uno de los casos y el otro no."
      ]
    },
    {
      "cell_type": "code",
      "execution_count": 1,
      "metadata": {
        "colab": {
          "base_uri": "https://localhost:8080/"
        },
        "id": "VnDC7XTLdO4y",
        "outputId": "cdcfb59d-0480-41fa-d8c2-41fd886ae9ec"
      },
      "outputs": [
        {
          "name": "stdout",
          "output_type": "stream",
          "text": [
            "Matriz bien condicionada:\n",
            "Número de condición: 2.62e+00\n",
            "Solución: [1. 2.]\n",
            "Solución perturbada [0.99998 2.00006]\n",
            "Error relativo en b: 1.41e-05\n",
            "Error relativo en x: 2.83e-05 \n",
            "\n",
            "Matriz mal condicionada:\n",
            "Número de condición: 4.00e+04\n",
            "Solución: [1. 1.]\n",
            "Solución perturbada [-4.4408921e-12  2.0000000e+00]\n",
            "Error relativo en b: 3.54e-05\n",
            "Error relativo en x: 1.00e+00 \n",
            "\n"
          ]
        }
      ],
      "source": [
        "import numpy as np\n",
        "\n",
        "# Matriz bien condicionada\n",
        "A1 = np.array([[3, 1],\n",
        "               [1, 2]], dtype=float)\n",
        "b1 = np.array([5, 5], dtype=float)\n",
        "\n",
        "# Matriz mal condicionada\n",
        "A2 = np.array([[1, 1],\n",
        "               [1, 1.0001]], dtype=float)\n",
        "b2 = np.array([2, 2.0001], dtype=float)\n",
        "\n",
        "# Resuelvo\n",
        "x1 = np.linalg.solve(A1, b1)\n",
        "x2 = np.linalg.solve(A2, b2)\n",
        "\n",
        "# Calculo números de condición\n",
        "cond1 = np.linalg.cond(A1) # por default elige la norma 2\n",
        "cond2 = np.linalg.cond(A2)\n",
        "\n",
        "# Perturbamos b levemente\n",
        "delta = 1e-4\n",
        "b1_pert = b1 + np.array([0, delta])\n",
        "b2_pert = b2 + np.array([0, delta])\n",
        "\n",
        "x1_pert = np.linalg.solve(A1, b1_pert)\n",
        "x2_pert = np.linalg.solve(A2, b2_pert)\n",
        "\n",
        "# Calculamos error relativo\n",
        "rel_error_b1 = np.linalg.norm(b1_pert - b1) / np.linalg.norm(b1)\n",
        "rel_error_x1 = np.linalg.norm(x1_pert - x1) / np.linalg.norm(x1)\n",
        "\n",
        "\n",
        "rel_error_b2 = np.linalg.norm(b2_pert - b2) / np.linalg.norm(b2)\n",
        "rel_error_x2 = np.linalg.norm(x2_pert - x2) / np.linalg.norm(x2)\n",
        "\n",
        "print(\"Matriz bien condicionada:\")\n",
        "print(f\"Número de condición: {cond1:.2e}\")\n",
        "print(f\"Solución: {x1}\")\n",
        "print(f\"Solución perturbada {x1_pert}\")\n",
        "print(f\"Error relativo en b: {rel_error_b1:.2e}\")\n",
        "print(f\"Error relativo en x: {rel_error_x1:.2e} \\n\")\n",
        "\n",
        "\n",
        "print(\"Matriz mal condicionada:\")\n",
        "print(f\"Número de condición: {cond2:.2e}\")\n",
        "print(f\"Solución: {x2}\")\n",
        "print(f\"Solución perturbada {x2_pert}\")\n",
        "print(f\"Error relativo en b: {rel_error_b2:.2e}\")\n",
        "print(f\"Error relativo en x: {rel_error_x2:.2e} \\n\")\n"
      ]
    },
    {
      "cell_type": "markdown",
      "metadata": {
        "id": "CN5y6Ro0fcYI"
      },
      "source": []
    },
    {
      "cell_type": "markdown",
      "metadata": {
        "id": "4L7ucdFjr8PR"
      },
      "source": [
        "# Método de Jacobi\n",
        "\n",
        "Queremos resolver el sistema lineal $A\\mathbf {x} =\\mathbf {b} $.\n",
        "\n",
        "Podemos descomponer a $A$ de la siguente manera\n",
        "\n",
        "$ A=D-L-U\\qquad {\\text{donde}}\\qquad D={\\begin{bmatrix}a_{11}&0&\\cdots &0\\\\0&a_{22}&\\cdots &0\\\\\\vdots &\\vdots &\\ddots &\\vdots \\\\0&0&\\cdots &a_{nn}\\end{bmatrix}}{\\text{ y }}L+U={\\begin{bmatrix}0&-a_{12}&\\cdots &-a_{1n}\\\\-a_{21}&0&\\cdots &-a_{2n}\\\\\\vdots &\\vdots &\\ddots &\\vdots \\\\-a_{n1}&-a_{n2}&\\cdots &0\\end{bmatrix}}.$\n",
        "\n",
        "No conocemos $\\mathbf{x}$ y queremos aproximarlo, por lo que vamos a elegir un vector inicial $\\mathbf {x} ^{(0)}$ y buscar iterativamente la solución.\n",
        "Llamamos $\\mathbf {x} ^{(k)}$ a la k-ésima aproximación o iteración de $\\mathbf {x}$.\n",
        "\n",
        "La solución por el método de Jacobi se obtiene mediante la fórmula\n",
        "\n",
        "$\\mathbf {x} ^{(k+1)}=D^{-1}(\\mathbf {b} +(L+U)\\mathbf {x} ^{(k)}),$\n",
        "\n",
        "que si se la piensa por elemento se puede escribir como\n",
        "\n",
        "$ x_{i}^{(k+1)}={\\frac {1}{a_{ii}}}\\left(b_{i}-\\sum _{j\\neq i}a_{ij}x_{j}^{(k)}\\right),\\quad i=1,2,\\ldots ,n.$\n",
        "\n",
        "Es importante notar que para conseguir $x_{i}^{(k+1)}$ se necesitan todos los elementos de $\\mathbf {x} ^{(k)}$, salvo el i-ésimo, por lo que no podemos re-escribir $x_{i}^{(k)}$ por $x_{i}^{(k+1)}$. Necesitamos al menos dos vectores de tamaño $n$."
      ]
    },
    {
      "cell_type": "code",
      "execution_count": 10,
      "metadata": {
        "id": "uKrIW2__T6CL"
      },
      "outputs": [],
      "source": [
        "import matplotlib.pyplot as plt\n",
        "\n",
        "\n",
        "def jacobi(A, b, x0, tol=1e-8, max_iter=1000):\n",
        "    \"\"\"\n",
        "    Resuelve el sistema lineal Ax = b usando el método iterativo de Jacobi.\n",
        "    A: Matriz de coeficientes\n",
        "    b: Vector de constantes\n",
        "    x0: Valor inicial de la solución\n",
        "    tol: Tolerancia de la convergencia\n",
        "    max_iter: Cantidad de iteraciones máximas permitidas\n",
        "    \"\"\"\n",
        "    x = x0.copy()\n",
        "    x_history = [x0]\n",
        "    for k in range(max_iter):\n",
        "        x_new = np.zeros_like(x)\n",
        "\n",
        "        for i in range(A.shape[0]):\n",
        "            s1 = np.dot(A[i, :i], x[:i])\n",
        "            s2 = np.dot(A[i, i + 1:], x[i + 1:])\n",
        "            x_new[i] = (b[i] - s1 - s2) / A[i, i]\n",
        "\n",
        "        dif = np.linalg.norm(x - x_new)\n",
        "        x_history.append(x_new)\n",
        "\n",
        "        if dif < tol:\n",
        "            return x_history, k\n",
        "        x = x_new\n",
        "\n",
        "    print(\"No se alcanzó la tolerancia deseada\")\n",
        "    return x_history, k\n"
      ]
    },
    {
      "cell_type": "markdown",
      "metadata": {
        "id": "NLyycxIkydDU"
      },
      "source": [
        "Ejemplo:"
      ]
    },
    {
      "cell_type": "code",
      "execution_count": 12,
      "metadata": {
        "colab": {
          "base_uri": "https://localhost:8080/",
          "height": 425
        },
        "id": "hfX9KDORUW-f",
        "outputId": "73d6fcb6-db41-4926-89b5-360468b34d28"
      },
      "outputs": [
        {
          "name": "stdout",
          "output_type": "stream",
          "text": [
            "Diferencia entre sol. analítica e iterativa: 1.3765093634032324e-15\n",
            "Cantidad de iteraciones: 38\n"
          ]
        },
        {
          "data": {
            "image/png": "[encoded data removed]",
            "text/plain": [
              "<Figure size 1000x400 with 2 Axes>"
            ]
          },
          "metadata": {},
          "output_type": "display_data"
        },
        {
          "name": "stdout",
          "output_type": "stream",
          "text": [
            "[ 0.03508772 -0.23684211  0.65789474]\n"
          ]
        }
      ],
      "source": [
        "A = np.array([[3, -1, 1],\n",
        "              [3,  6, 2],\n",
        "              [3,  3, 7]])\n",
        "b = np.array([1, 0 , 4])\n",
        "\n",
        "#Comparo con solución exacta\n",
        "solucion = ([2/57, -9/38, 25/38])\n",
        "\n",
        "x0 = np.array([0., 0., 0.])\n",
        "x_hist, iters = jacobi(A, b, x0,tol=1e-14, max_iter=100)\n",
        "\n",
        "#Calculo residuo y error de cada iteración\n",
        "res = []\n",
        "err = []\n",
        "\n",
        "for x_k in x_hist:\n",
        "    res.append(np.linalg.norm(A@x_k - b))\n",
        "    err.append(np.linalg.norm(solucion-x_k))\n",
        "\n",
        "\n",
        "print(\"Diferencia entre sol. analítica e iterativa:\", err[-1])\n",
        "print(f'Cantidad de iteraciones:', iters)\n",
        "\n",
        "plt.figure(figsize = (10,4))\n",
        "plt.subplot(1, 2, 1)\n",
        "plt.plot(err, '-o')\n",
        "plt.xlabel('Iteraciones')\n",
        "plt.ylabel('Error')\n",
        "plt.yscale('log')\n",
        "\n",
        "plt.subplot(1, 2, 2)\n",
        "plt.plot(res, '-o')\n",
        "plt.xlabel('Iteraciones')\n",
        "plt.ylabel('Residuo')\n",
        "plt.yscale('log')\n",
        "plt.show()\n",
        "\n",
        "print(x_hist[-1])"
      ]
    },
    {
      "cell_type": "code",
      "execution_count": 13,
      "metadata": {},
      "outputs": [],
      "source": [
        "import numpy as np\n",
        "import matplotlib.pyplot as plt\n",
        "\n",
        "def QR_GS(A):\n",
        "    \"\"\"Realiza descomposición QR con Gram-Schmidt clásico.\n",
        "    En caso que A sea rectangular, devuelve Q de tamaño (m, n) y R de tamaño (n, n) (Reducida).\n",
        "\n",
        "    Args:\n",
        "        A: Matriz de tamaño (m, n).\n",
        "\n",
        "    Devuelve:\n",
        "        Q: Matriz ortogonal de tamaño (m, n).\n",
        "        R: Matriz triangular superior de tamaño (n, n).\n",
        "    \"\"\"\n",
        "    m, n = A.shape\n",
        "    Q = np.zeros((m, n))\n",
        "    R = np.zeros((n, n))\n",
        "\n",
        "    for j in range(n):\n",
        "        v = A[:, j]\n",
        "        for i in range(j):\n",
        "            R[i, j] = np.dot(Q[:, i], A[:, j])\n",
        "            v = v - R[i, j] * Q[:, i]\n",
        "        R[j, j] = np.linalg.norm(v)\n",
        "        Q[:, j] = v / R[j, j]\n",
        "\n",
        "    return Q, R"
      ]
    },
    {
      "cell_type": "code",
      "execution_count": 15,
      "metadata": {},
      "outputs": [
        {
          "name": "stdout",
          "output_type": "stream",
          "text": [
            "\n",
            "Ortogonalidad (clásico): True\n",
            "[[ 6.66666667e-01  5.96284794e-01  4.47213595e-01]\n",
            " [-6.66666667e-01  7.45355992e-01  1.48952049e-15]\n",
            " [ 3.33333333e-01  2.98142397e-01 -8.94427191e-01]]\n",
            "[[ 3.          3.33333333 -3.        ]\n",
            " [ 0.          2.98142397  1.34164079]\n",
            " [ 0.          0.          0.4472136 ]]\n"
          ]
        }
      ],
      "source": [
        "# Matriz A\n",
        "A = np.array([[2, 4, -1],\n",
        "              [-2, 0, 3],\n",
        "              [1, 2, -1]], dtype=float)\n",
        "\n",
        "Q, R = QR_GS(A)\n",
        "\n",
        "ortogonalidad = np.allclose(np.dot(Q.T, Q), np.eye(Q.shape[1]))\n",
        "print(\"\\nOrtogonalidad (clásico):\", ortogonalidad)\n",
        "\n",
        "print(Q)\n",
        "print(R)"
      ]
    },
    {
      "cell_type": "code",
      "execution_count": 20,
      "metadata": {},
      "outputs": [
        {
          "name": "stdout",
          "output_type": "stream",
          "text": [
            "[[ 12. -51.   4.]\n",
            " [  6. 167. -68.]\n",
            " [ -4.  24. -41.]]\n",
            "[[ 25.    11.04   9.28]\n",
            " [ 95.   146.    72.  ]\n",
            " [-10.     6.   -33.  ]]\n",
            "[[ 154.65641026    9.09951252 -108.25126894]\n",
            " [  33.08755139    3.70451409    9.13989989]\n",
            " [  -2.62377524   15.80372493  -20.36092434]]\n",
            "[[ 158.34304662 -102.95641779  -12.94203558]\n",
            " [   3.66631472  -16.72825249   17.59113804]\n",
            " [  -0.56011571   33.56865263   -3.61479414]]\n",
            "[[ 1.55993034e+02  3.14685276e+01 -1.03041311e+02]\n",
            " [ 8.74162823e-01 -2.39282862e+01  2.90515340e+01]\n",
            " [-5.29365967e-02  1.37420751e+01  5.93525233e+00]]\n",
            "[[ 1.56203508e+02 -7.74088556e+01 -7.42194005e+01]\n",
            " [ 1.63254306e-01 -3.54078985e+01 -6.05997500e+00]\n",
            " [-6.72168000e-03  9.81598367e+00  1.72043908e+01]]\n",
            "[[ 1.56125760e+02  5.49146122e+01 -9.22831450e+01]\n",
            " [ 3.78732879e-02 -3.25521856e+01  1.98022275e+01]\n",
            " [-6.44294628e-04  4.00717804e+00  1.44264259e+01]]\n",
            "[[ 1.56139460e+02 -6.57284296e+01 -8.48854822e+01]\n",
            " [ 8.03331945e-03 -3.47534717e+01 -1.37727426e+01]\n",
            " [-6.90793196e-05  2.04446595e+00  1.66140118e+01]]\n",
            "Los autovalores con el método de QR directo son [156.13668406  16.05995697 -34.19664103]\n",
            "Los autovalores usando linalg son [156.13668406  16.05999094 -34.196675  ]\n"
          ]
        }
      ],
      "source": [
        "A = np.array([[12, -51, 4],\n",
        "              [6, 167, -68],\n",
        "              [-4, 24, -41]], dtype=float) #me defino esta matriz de prueba\n",
        "\n",
        "Q,R = QR_GS(A) #Chequeamos que nos da bien \n",
        "print(Q@R)\n",
        "\n",
        "def eigenval_calculator(A,iterations = 1000): #pueden ver de armar un criterio mejor, por ejemplo si los elementos inferiores son todos menores a tal valor cortar o los elementos cercanos a la diagonal se hacen mas chicos que tal umbral, etc\n",
        "    M = A.copy() #Voy a ir armando matrices similares M para ir iterando para hacer una matriz tridiagonal\n",
        "    Q,R = QR_GS(M)\n",
        "    for j in range(iterations):\n",
        "       \n",
        "        Q,R = QR_GS(M)\n",
        "        M = R@Q #La matriz similar es R@Q por cada paso\n",
        "        if j<7:\n",
        "          print(f'{M}') #Esto nos ayuda a ver en los primeros 5 pasos como va quedando M\n",
        "    eigenval = np.diag(M) #me quedo con un array de valores de la diagonal de M que son las aproximaciones a orden cúbico de los autovalores\n",
        "    return eigenval\n",
        "\n",
        "eigenval = np.sort(eigenval_calculator(A,20))[::-1] #calculo los autovalores usando el método y los ordeno de mayor a menor\n",
        "print(f'Los autovalores con el método de QR directo son {eigenval}')\n",
        "linalg_eigen = np.linalg.eigvals(A)\n",
        "print(f'Los autovalores usando linalg son {linalg_eigen}')"
      ]
    }
  ],
  "metadata": {
    "colab": {
      "provenance": []
    },
    "kernelspec": {
      "display_name": "CMBby",
      "language": "python",
      "name": "python3"
    },
    "language_info": {
      "codemirror_mode": {
        "name": "ipython",
        "version": 3
      },
      "file_extension": ".py",
      "mimetype": "text/x-python",
      "name": "python",
      "nbconvert_exporter": "python",
      "pygments_lexer": "ipython3",
      "version": "3.10.9"
    }
  },
  "nbformat": 4,
  "nbformat_minor": 0
}
