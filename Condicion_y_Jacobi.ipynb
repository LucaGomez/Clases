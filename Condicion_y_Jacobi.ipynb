{
  "nbformat": 4,
  "nbformat_minor": 0,
  "metadata": {
    "colab": {
      "provenance": []
    },
    "kernelspec": {
      "name": "python3",
      "display_name": "Python 3"
    },
    "language_info": {
      "name": "python"
    }
  },
  "cells": [
    {
      "cell_type": "markdown",
      "source": [
        "## Número de Condición\n",
        "\n",
        "Consideramos 2 matrices, $A_1$ y $A_2$, con números de condición $\\kappa(A_1)\\approx 1$, y $\\kappa(A_2)\\gg 1$.\n",
        "\n",
        "Vamos a ver que al añadir una ligera perturbación al vector $b$ (que podría ser propia de una incerteza de los datos), la solución cambia drásticamente en uno de los casos y el otro no."
      ],
      "metadata": {
        "id": "CRJDvZA9e7nC"
      }
    },
    {
      "cell_type": "code",
      "source": [
        "import numpy as np\n",
        "\n",
        "# Matriz bien condicionada\n",
        "A1 = np.array([[3, 1],\n",
        "               [1, 2]], dtype=float)\n",
        "b1 = np.array([5, 5], dtype=float)\n",
        "\n",
        "# Matriz mal condicionada\n",
        "A2 = np.array([[1, 1],\n",
        "               [1, 1.0001]], dtype=float)\n",
        "b2 = np.array([2, 2.0001], dtype=float)\n",
        "\n",
        "# Resuelvo\n",
        "x1 = np.linalg.solve(A1, b1)\n",
        "x2 = np.linalg.solve(A2, b2)\n",
        "\n",
        "# Calculo números de condición\n",
        "cond1 = np.linalg.cond(A1) # por default elige la norma 2\n",
        "cond2 = np.linalg.cond(A2)\n",
        "\n",
        "# Perturbamos b levemente\n",
        "delta = 1e-4\n",
        "b1_pert = b1 + np.array([0, delta])\n",
        "b2_pert = b2 + np.array([0, delta])\n",
        "\n",
        "x1_pert = np.linalg.solve(A1, b1_pert)\n",
        "x2_pert = np.linalg.solve(A2, b2_pert)\n",
        "\n",
        "# Calculamos error relativo\n",
        "rel_error_b1 = np.linalg.norm(b1_pert - b1) / np.linalg.norm(b1)\n",
        "rel_error_x1 = np.linalg.norm(x1_pert - x1) / np.linalg.norm(x1)\n",
        "\n",
        "\n",
        "rel_error_b2 = np.linalg.norm(b2_pert - b2) / np.linalg.norm(b2)\n",
        "rel_error_x2 = np.linalg.norm(x2_pert - x2) / np.linalg.norm(x2)\n",
        "\n",
        "print(\"Matriz bien condicionada:\")\n",
        "print(f\"Número de condición: {cond1:.2e}\")\n",
        "print(f\"Solución: {x1}\")\n",
        "print(f\"Solución perturbada {x1_pert}\")\n",
        "print(f\"Error relativo en b: {rel_error_b1:.2e}\")\n",
        "print(f\"Error relativo en x: {rel_error_x1:.2e} \\n\")\n",
        "\n",
        "\n",
        "print(\"Matriz mal condicionada:\")\n",
        "print(f\"Número de condición: {cond2:.2e}\")\n",
        "print(f\"Solución: {x2}\")\n",
        "print(f\"Solución perturbada {x2_pert}\")\n",
        "print(f\"Error relativo en b: {rel_error_b2:.2e}\")\n",
        "print(f\"Error relativo en x: {rel_error_x2:.2e} \\n\")\n"
      ],
      "metadata": {
        "colab": {
          "base_uri": "https://localhost:8080/"
        },
        "id": "VnDC7XTLdO4y",
        "outputId": "cdcfb59d-0480-41fa-d8c2-41fd886ae9ec"
      },
      "execution_count": 10,
      "outputs": [
        {
          "output_type": "stream",
          "name": "stdout",
          "text": [
            "Matriz bien condicionada:\n",
            "Número de condición: 2.62e+00\n",
            "Solución: [1. 2.]\n",
            "Solución perturbada [0.99998 2.00006]\n",
            "Error relativo en b: 1.41e-05\n",
            "Error relativo en x: 2.83e-05 \n",
            "\n",
            "Matriz mal condicionada:\n",
            "Número de condición: 4.00e+04\n",
            "Solución: [1. 1.]\n",
            "Solución perturbada [-4.4408921e-12  2.0000000e+00]\n",
            "Error relativo en b: 3.54e-05\n",
            "Error relativo en x: 1.00e+00 \n",
            "\n"
          ]
        }
      ]
    },
    {
      "cell_type": "markdown",
      "source": [],
      "metadata": {
        "id": "CN5y6Ro0fcYI"
      }
    },
    {
      "cell_type": "markdown",
      "source": [
        "# Método de Jacobi\n",
        "\n",
        "Queremos resolver el sistema lineal $A\\mathbf {x} =\\mathbf {b} $.\n",
        "\n",
        "Podemos descomponer a $A$ de la siguente manera\n",
        "\n",
        "$ A=D-L-U\\qquad {\\text{donde}}\\qquad D={\\begin{bmatrix}a_{11}&0&\\cdots &0\\\\0&a_{22}&\\cdots &0\\\\\\vdots &\\vdots &\\ddots &\\vdots \\\\0&0&\\cdots &a_{nn}\\end{bmatrix}}{\\text{ y }}L+U={\\begin{bmatrix}0&-a_{12}&\\cdots &-a_{1n}\\\\-a_{21}&0&\\cdots &-a_{2n}\\\\\\vdots &\\vdots &\\ddots &\\vdots \\\\-a_{n1}&-a_{n2}&\\cdots &0\\end{bmatrix}}.$\n",
        "\n",
        "No conocemos $\\mathbf{x}$ y queremos aproximarlo, por lo que vamos a elegir un vector inicial $\\mathbf {x} ^{(0)}$ y buscar iterativamente la solución.\n",
        "Llamamos $\\mathbf {x} ^{(k)}$ a la k-ésima aproximación o iteración de $\\mathbf {x}$.\n",
        "\n",
        "La solución por el método de Jacobi se obtiene mediante la fórmula\n",
        "\n",
        "$\\mathbf {x} ^{(k+1)}=D^{-1}(\\mathbf {b} +(L+U)\\mathbf {x} ^{(k)}),$\n",
        "\n",
        "que si se la piensa por elemento se puede escribir como\n",
        "\n",
        "$ x_{i}^{(k+1)}={\\frac {1}{a_{ii}}}\\left(b_{i}-\\sum _{j\\neq i}a_{ij}x_{j}^{(k)}\\right),\\quad i=1,2,\\ldots ,n.$\n",
        "\n",
        "Es importante notar que para conseguir $x_{i}^{(k+1)}$ se necesitan todos los elementos de $\\mathbf {x} ^{(k)}$, salvo el i-ésimo, por lo que no podemos re-escribir $x_{i}^{(k)}$ por $x_{i}^{(k+1)}$. Necesitamos al menos dos vectores de tamaño $n$."
      ],
      "metadata": {
        "id": "4L7ucdFjr8PR"
      }
    },
    {
      "cell_type": "code",
      "execution_count": 3,
      "metadata": {
        "id": "uKrIW2__T6CL"
      },
      "outputs": [],
      "source": [
        "import matplotlib.pyplot as plt\n",
        "\n",
        "\n",
        "def jacobi(A, b, x0, tol=1e-8, max_iter=1000):\n",
        "    \"\"\"\n",
        "    Resuelve el sistema lineal Ax = b usando el método iterativo de Jacobi.\n",
        "    A: Matriz de coeficientes\n",
        "    b: Vector de constantes\n",
        "    x0: Valor inicial de la solución\n",
        "    tol: Tolerancia de la convergencia\n",
        "    max_iter: Cantidad de iteraciones máximas permitidas\n",
        "    \"\"\"\n",
        "    x = x0.copy()\n",
        "    x_history = [x0]\n",
        "    for k in range(max_iter):\n",
        "        x_new = np.zeros_like(x)\n",
        "\n",
        "        for i in range(A.shape[0]):\n",
        "            s1 = np.dot(A[i, :i], x[:i])\n",
        "            s2 = np.dot(A[i, i + 1:], x[i + 1:])\n",
        "            x_new[i] = (b[i] - s1 - s2) / A[i, i]\n",
        "\n",
        "        dif = np.linalg.norm(x - x_new)\n",
        "        x_history.append(x_new)\n",
        "\n",
        "        if dif < tol:\n",
        "            return x_history, k\n",
        "        x = x_new\n",
        "\n",
        "    print(\"No se alcanzó la tolerancia deseada\")\n",
        "    return x_history, k\n"
      ]
    },
    {
      "cell_type": "markdown",
      "source": [
        "Ejemplo:"
      ],
      "metadata": {
        "id": "NLyycxIkydDU"
      }
    },
    {
      "cell_type": "code",
      "source": [
        "A = np.array([[3, -1, 1],\n",
        "              [3,  6, 2],\n",
        "              [3,  3, 7]])\n",
        "b = np.array([1, 0 , 4])\n",
        "\n",
        "#Comparo con solución exacta\n",
        "solucion = ([2/57, -9/38, 25/38])\n",
        "\n",
        "x0 = np.array([0., 0., 0.])\n",
        "x_hist, iters = jacobi(A, b, x0,tol=1e-14, max_iter=100)\n",
        "\n",
        "#Calculo residuo y error de cada iteración\n",
        "res = []\n",
        "err = []\n",
        "\n",
        "for x_k in x_hist:\n",
        "    res.append(np.linalg.norm(A@x_k - b))\n",
        "    err.append(np.linalg.norm(solucion-x_k))\n",
        "\n",
        "\n",
        "print(\"Diferencia entre sol. analítica e iterativa:\", err[-1])\n",
        "print(f'Cantidad de iteraciones:', iters)\n",
        "\n",
        "plt.figure(figsize = (10,4))\n",
        "plt.subplot(1, 2, 1)\n",
        "plt.plot(err, '-o')\n",
        "plt.xlabel('Iteraciones')\n",
        "plt.ylabel('Error')\n",
        "plt.yscale('log')\n",
        "\n",
        "plt.subplot(1, 2, 2)\n",
        "plt.plot(res, '-o')\n",
        "plt.xlabel('Iteraciones')\n",
        "plt.ylabel('Residuo')\n",
        "plt.yscale('log')\n",
        "plt.show()\n"
      ],
      "metadata": {
        "colab": {
          "base_uri": "https://localhost:8080/",
          "height": 425
        },
        "id": "hfX9KDORUW-f",
        "outputId": "73d6fcb6-db41-4926-89b5-360468b34d28"
      },
      "execution_count": 12,
      "outputs": [
        {
          "output_type": "stream",
          "name": "stdout",
          "text": [
            "Diferencia entre sol. analítica e iterativa: 1.3765093634032324e-15\n",
            "Cantidad de iteraciones: 38\n"
          ]
        },
        {
          "output_type": "display_data",
          "data": {
            "text/plain": [
              "<Figure size 1000x400 with 2 Axes>"
            ],
            "image/png": "[encoded data removed]"
          },
          "metadata": {}
        }
      ]
    }
  ]
}