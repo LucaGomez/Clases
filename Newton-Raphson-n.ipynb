{
 "cells": [
  {
   "cell_type": "code",
   "execution_count": 1,
   "id": "6799869c",
   "metadata": {},
   "outputs": [],
   "source": [
    "import numpy as np\n",
    "import matplotlib.pyplot as plt\n",
    "\n",
    "def newton_raphson_n(f, df, p0, criterio, tol=1e-5, Nmax=1000, save_history=False, f_args=(), df_args=()):\n",
    "    \"\"\"\n",
    "    Método de Newton-Raphson para encontrar raíces.\n",
    "\n",
    "    Parámetros:\n",
    "    -----------\n",
    "    f : callable - función a analizar\n",
    "    df : callable - derivada de la función f\n",
    "    p0 : float - valor inicial\n",
    "    criterio : str - 'valor de f', 'error absoluto', 'error relativo'\n",
    "    tol : float - tolerancia (default: 1e-5)\n",
    "    Nmax : int - máximo de iteraciones (default: 1000)\n",
    "    save_history : bool - si es True, guarda las aproximaciones en cada iteración (default: False)\n",
    "    f_args : tuple - argumentos adicionales para la función f (default: ())\n",
    "    df_args : tuple - argumentos adicionales para la función df (default: ())\n",
    "\n",
    "    Returns:\n",
    "    --------\n",
    "    float - raíz encontrada\n",
    "    list (opcional) - lista de aproximaciones si save_history=True\n",
    "    \"\"\"\n",
    "    # Inicialización\n",
    "    i = 0\n",
    "    history = [p0] if save_history else None\n",
    "    p = p0\n",
    "\n",
    "    while i < Nmax:\n",
    "        i += 1\n",
    "\n",
    "        try:\n",
    "            dp = np.linalg.solve(df(p, *df_args), -f(p, *f_args))  # Resuelve df(p) dp = -f(p)\n",
    "            p_next = p + dp\n",
    "        except Exception as e:\n",
    "            print(f\"Error en la iteración {i}: {e}\")\n",
    "            return (p, history) if save_history else p\n",
    "\n",
    "        # Guardar la aproximación actual si save_history es True\n",
    "        if save_history:\n",
    "            history.append(p_next)\n",
    "\n",
    "        # Chequeo de convergencia\n",
    "        if criterio == 'valor de f' and np.linalg.norm(f(p_next, *f_args)) < tol:\n",
    "            break\n",
    "        elif criterio == 'error absoluto' and np.linalg.norm(p_next - p) < tol:\n",
    "            break\n",
    "        elif criterio == 'error relativo' and np.linalg.norm((p_next - p) / p_next) < tol:\n",
    "            break\n",
    "        elif criterio not in ['valor de f', 'error absoluto', 'error relativo']:\n",
    "            raise ValueError(\"Criterio no válido. Use 'valor de f', 'error absoluto' o 'error relativo'.\")\n",
    "\n",
    "        # Actualización del valor de p\n",
    "        p = p_next\n",
    "\n",
    "    else:\n",
    "        # Si se ejecuta el break esto no corre\n",
    "        print(f'Algoritmo no alcanzó tolerancia en {Nmax} iteraciones')\n",
    "        return (p_next, history) if save_history else p_next\n",
    "\n",
    "    return (p_next, history) if save_history else p_next"
   ]
  },
  {
   "cell_type": "code",
   "execution_count": 4,
   "id": "e16d16c6",
   "metadata": {},
   "outputs": [
    {
     "name": "stdout",
     "output_type": "stream",
     "text": [
      "[array([1., 2.]), array([-1.,  4.]), array([-0.2,  3.2]), array([-0.01176471,  3.01176471]), array([-4.57770657e-05,  3.00004578e+00]), array([-6.98491837e-10,  3.00000000e+00]), array([9.32617156e-17, 3.00000000e+00])]\n"
     ]
    }
   ],
   "source": [
    "f_n = lambda x: np.array([x[0] + x[1] - 3, x[0]**2 + x[1]**2 - 9])\n",
    "df_n = lambda x: np.array([[1, 1], [2*x[0], 2*x[1]]])\n",
    "\n",
    "# Aplicación del método de Newton-Raphson en N dimensiones\n",
    "x0 = np.array([1.0, 2.0])\n",
    "tol = 1e-20\n",
    "r_n, history = newton_raphson_n(f_n, df_n, x0, 'valor de f', tol=tol, save_history=True)\n",
    "print(history)"
   ]
  }
 ],
 "metadata": {
  "kernelspec": {
   "display_name": "CMBby",
   "language": "python",
   "name": "python3"
  },
  "language_info": {
   "codemirror_mode": {
    "name": "ipython",
    "version": 3
   },
   "file_extension": ".py",
   "mimetype": "text/x-python",
   "name": "python",
   "nbconvert_exporter": "python",
   "pygments_lexer": "ipython3",
   "version": "3.10.9"
  }
 },
 "nbformat": 4,
 "nbformat_minor": 5
}
